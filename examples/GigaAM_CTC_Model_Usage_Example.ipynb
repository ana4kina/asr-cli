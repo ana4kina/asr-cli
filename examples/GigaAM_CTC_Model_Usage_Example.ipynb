{
  "cells": [
    {
      "cell_type": "markdown",
      "metadata": {
        "id": "0Q99xpSOdHEM"
      },
      "source": [
        "### Installing and importing dependencies"
      ]
    },
    {
      "cell_type": "code",
      "execution_count": 3,
      "metadata": {
        "colab": {
          "base_uri": "https://localhost:8080/"
        },
        "id": "2am02YkxKBJ5",
        "outputId": "e223ed72-f63c-4933-d0f7-a4b57b55eac3"
      },
      "outputs": [
        {
          "name": "stdout",
          "output_type": "stream",
          "text": [
            "Requirement already satisfied: wget in /Users/danilandreev/Desktop/Python/DataScience/asr-cli/.venv/lib/python3.11/site-packages (3.2)\n",
            "zsh:1: 3.3.2 not found\n",
            "zsh:1: no matches found: git+https://github.com/NVIDIA/NeMo.git@r1.21.0#egg=nemo_toolkit[all]\n"
          ]
        }
      ],
      "source": [
        "!pip install wget\n",
        "# !apt-get install sox libsndfile1 ffmpeg\n",
        "!pip install matplotlib>=3.3.2\n",
        "\n",
        "BRANCH = 'r1.21.0'\n",
        "!python -m pip install git+https://github.com/NVIDIA/NeMo.git@$BRANCH#egg=nemo_toolkit[all]"
      ]
    },
    {
      "cell_type": "code",
      "execution_count": 2,
      "metadata": {
        "colab": {
          "base_uri": "https://localhost:8080/"
        },
        "id": "WLLmJFoeBWt7",
        "outputId": "1de7ade2-6ed0-4c99-fa6a-067a8aab0a66"
      },
      "outputs": [
        {
          "ename": "ModuleNotFoundError",
          "evalue": "No module named 'omegaconf'",
          "output_type": "error",
          "traceback": [
            "\u001b[0;31m---------------------------------------------------------------------------\u001b[0m",
            "\u001b[0;31mModuleNotFoundError\u001b[0m                       Traceback (most recent call last)",
            "Cell \u001b[0;32mIn[2], line 2\u001b[0m\n\u001b[1;32m      1\u001b[0m \u001b[38;5;28;01mimport\u001b[39;00m \u001b[38;5;21;01mtorch\u001b[39;00m\n\u001b[0;32m----> 2\u001b[0m \u001b[38;5;28;01mfrom\u001b[39;00m \u001b[38;5;21;01momegaconf\u001b[39;00m \u001b[38;5;28;01mimport\u001b[39;00m OmegaConf\n\u001b[1;32m      3\u001b[0m \u001b[38;5;28;01mimport\u001b[39;00m \u001b[38;5;21;01mtorchaudio\u001b[39;00m\n\u001b[1;32m      5\u001b[0m \u001b[38;5;28;01mfrom\u001b[39;00m \u001b[38;5;21;01mnemo\u001b[39;00m\u001b[38;5;21;01m.\u001b[39;00m\u001b[38;5;21;01mcollections\u001b[39;00m\u001b[38;5;21;01m.\u001b[39;00m\u001b[38;5;21;01masr\u001b[39;00m\u001b[38;5;21;01m.\u001b[39;00m\u001b[38;5;21;01mmodels\u001b[39;00m \u001b[38;5;28;01mimport\u001b[39;00m EncDecCTCModel\n",
            "\u001b[0;31mModuleNotFoundError\u001b[0m: No module named 'omegaconf'"
          ]
        }
      ],
      "source": [
        "import torch\n",
        "from omegaconf import OmegaConf\n",
        "import torchaudio\n",
        "\n",
        "from nemo.collections.asr.models import EncDecCTCModel\n",
        "\n",
        "from nemo.collections.asr.parts.preprocessing.features import FilterbankFeaturesTA as NeMoFilterbankFeaturesTA\n",
        "from nemo.collections.asr.modules.audio_preprocessing import AudioToMelSpectrogramPreprocessor as NeMoAudioToMelSpectrogramPreprocessor"
      ]
    },
    {
      "cell_type": "markdown",
      "metadata": {
        "id": "8oUuhRnadATl"
      },
      "source": [
        "### Downloading config, weights and audio example"
      ]
    },
    {
      "cell_type": "code",
      "execution_count": null,
      "metadata": {
        "colab": {
          "base_uri": "https://localhost:8080/"
        },
        "id": "OD99UH_9U8UW",
        "outputId": "90e5a012-6a37-4a53-dd60-be3c0be72b09"
      },
      "outputs": [
        {
          "name": "stdout",
          "output_type": "stream",
          "text": [
            "--2024-03-22 07:03:47--  https://n-ws-q0bez.s3pd12.sbercloud.ru/b-ws-q0bez-jpv/GigaAM/ctc_model_weights.ckpt\n",
            "Resolving n-ws-q0bez.s3pd12.sbercloud.ru (n-ws-q0bez.s3pd12.sbercloud.ru)... 37.230.193.192\n",
            "Connecting to n-ws-q0bez.s3pd12.sbercloud.ru (n-ws-q0bez.s3pd12.sbercloud.ru)|37.230.193.192|:443... connected.\n",
            "HTTP request sent, awaiting response... 200 OK\n",
            "Length: 968535213 (924M) [application/octet-stream]\n",
            "Saving to: ‘ctc_model_weights.ckpt’\n",
            "\n",
            "ctc_model_weights.c 100%[===================>] 923.67M  17.2MB/s    in 85s     \n",
            "\n",
            "2024-03-22 07:05:13 (10.9 MB/s) - ‘ctc_model_weights.ckpt’ saved [968535213/968535213]\n",
            "\n",
            "--2024-03-22 07:05:14--  https://n-ws-q0bez.s3pd12.sbercloud.ru/b-ws-q0bez-jpv/GigaAM/ctc_model_config.yaml\n",
            "Resolving n-ws-q0bez.s3pd12.sbercloud.ru (n-ws-q0bez.s3pd12.sbercloud.ru)... 37.230.193.192\n",
            "Connecting to n-ws-q0bez.s3pd12.sbercloud.ru (n-ws-q0bez.s3pd12.sbercloud.ru)|37.230.193.192|:443... connected.\n",
            "HTTP request sent, awaiting response... 200 OK\n",
            "Length: 3129 (3.1K) [application/octet-stream]\n",
            "Saving to: ‘ctc_model_config.yaml’\n",
            "\n",
            "ctc_model_config.ya 100%[===================>]   3.06K  --.-KB/s    in 0s      \n",
            "\n",
            "2024-03-22 07:05:14 (1.20 GB/s) - ‘ctc_model_config.yaml’ saved [3129/3129]\n",
            "\n",
            "--2024-03-22 07:05:14--  https://n-ws-q0bez.s3pd12.sbercloud.ru/b-ws-q0bez-jpv/GigaAM/example.mp3\n",
            "Resolving n-ws-q0bez.s3pd12.sbercloud.ru (n-ws-q0bez.s3pd12.sbercloud.ru)... 37.230.193.192\n",
            "Connecting to n-ws-q0bez.s3pd12.sbercloud.ru (n-ws-q0bez.s3pd12.sbercloud.ru)|37.230.193.192|:443... connected.\n",
            "HTTP request sent, awaiting response... 200 OK\n",
            "Length: 19053 (19K) [application/octet-stream]\n",
            "Saving to: ‘example.mp3’\n",
            "\n",
            "example.mp3         100%[===================>]  18.61K  --.-KB/s    in 0.1s    \n",
            "\n",
            "2024-03-22 07:05:15 (135 KB/s) - ‘example.mp3’ saved [19053/19053]\n",
            "\n"
          ]
        }
      ],
      "source": [
        "import locale\n",
        "locale.getpreferredencoding = lambda: \"UTF-8\"\n",
        "\n",
        "# Loading weights, config and example wav for CTC-model\n",
        "!wget https://n-ws-q0bez.s3pd12.sbercloud.ru/b-ws-q0bez-jpv/GigaAM/ctc_model_weights.ckpt\n",
        "!wget https://n-ws-q0bez.s3pd12.sbercloud.ru/b-ws-q0bez-jpv/GigaAM/ctc_model_config.yaml\n",
        "!wget https://n-ws-q0bez.s3pd12.sbercloud.ru/b-ws-q0bez-jpv/GigaAM/example.mp3\n"
      ]
    },
    {
      "cell_type": "markdown",
      "metadata": {
        "id": "7l6p192UWtLe"
      },
      "source": [
        "### Adding modules for features extraction"
      ]
    },
    {
      "cell_type": "code",
      "execution_count": null,
      "metadata": {
        "id": "gzdGDuz3ZN2V"
      },
      "outputs": [],
      "source": [
        "from typing import Optional, Tuple, Union\n",
        "import random\n",
        "\n",
        "class FilterbankFeaturesTA(NeMoFilterbankFeaturesTA):\n",
        "    def __init__(self, mel_scale: str = 'htk', wkwargs=None, **kwargs):\n",
        "        if 'window_size' in kwargs:\n",
        "            del kwargs['window_size']\n",
        "        if 'window_stride' in kwargs:\n",
        "            del kwargs['window_stride']\n",
        "\n",
        "        super().__init__(**kwargs)\n",
        "\n",
        "        self._mel_spec_extractor: torchaudio.transforms.MelSpectrogram = torchaudio.transforms.MelSpectrogram(\n",
        "            sample_rate=self._sample_rate,\n",
        "            win_length=self.win_length,\n",
        "            hop_length=self.hop_length,\n",
        "            n_mels=kwargs['nfilt'],\n",
        "            window_fn=self.torch_windows[kwargs['window']],\n",
        "            mel_scale=mel_scale,\n",
        "            norm=kwargs['mel_norm'],\n",
        "            n_fft=kwargs['n_fft'],\n",
        "            f_max=kwargs.get('highfreq', None),\n",
        "            f_min=kwargs.get('lowfreq', 0),\n",
        "            wkwargs=wkwargs,\n",
        "        )\n",
        "\n",
        "class AudioToMelSpectrogramPreprocessor(NeMoAudioToMelSpectrogramPreprocessor):\n",
        "    def __init__(self, mel_scale: str = 'htk', **kwargs):\n",
        "        super().__init__(**kwargs)\n",
        "        kwargs['nfilt'] = kwargs['features']\n",
        "        del kwargs['features']\n",
        "        self.featurizer = FilterbankFeaturesTA(  # Deprecated arguments; kept for config compatibility\n",
        "            mel_scale=mel_scale,\n",
        "            **kwargs,\n",
        "        )"
      ]
    },
    {
      "cell_type": "markdown",
      "metadata": {
        "id": "pAS_1RpLWpjh"
      },
      "source": [
        "### Transcribation example witch CTC-model"
      ]
    },
    {
      "cell_type": "code",
      "execution_count": null,
      "metadata": {
        "colab": {
          "base_uri": "https://localhost:8080/"
        },
        "id": "D5dm-IG_KvY0",
        "outputId": "b7a7d254-456e-4925-aa65-59e4dbc60740"
      },
      "outputs": [
        {
          "name": "stderr",
          "output_type": "stream",
          "text": [
            "[NeMo W 2024-03-20 15:10:42 audio_to_text_dataset:688] Could not load dataset as `manifest_filepath` was None. Provided config : {'batch_size': 10, 'trim_silence': False, 'max_duration': 25.0, 'min_duration': 0.1, 'shuffle': True, 'is_tarred': False, 'num_workers': 8, 'pin_memory': True, 'manifest_filepath': None, 'labels': [' ', 'а', 'б', 'в', 'г', 'д', 'е', 'ж', 'з', 'и', 'й', 'к', 'л', 'м', 'н', 'о', 'п', 'р', 'с', 'т', 'у', 'ф', 'х', 'ц', 'ч', 'ш', 'щ', 'ъ', 'ы', 'ь', 'э', 'ю', 'я'], 'sample_rate': 16000}\n",
            "[NeMo W 2024-03-20 15:10:42 audio_to_text_dataset:688] Could not load dataset as `manifest_filepath` was None. Provided config : {'batch_size': 20, 'shuffle': False, 'num_workers': 4, 'min_duration': 0.1, 'pin_memory': True, 'manifest_filepath': None, 'labels': [' ', 'а', 'б', 'в', 'г', 'д', 'е', 'ж', 'з', 'и', 'й', 'к', 'л', 'м', 'н', 'о', 'п', 'р', 'с', 'т', 'у', 'ф', 'х', 'ц', 'ч', 'ш', 'щ', 'ъ', 'ы', 'ь', 'э', 'ю', 'я'], 'sample_rate': 16000}\n",
            "[NeMo W 2024-03-20 15:10:42 audio_to_text_dataset:688] Could not load dataset as `manifest_filepath` was None. Provided config : {'manifest_filepath': None, 'batch_size': 100, 'shuffle': False, 'num_workers': 4, 'pin_memory': True, 'labels': [' ', 'а', 'б', 'в', 'г', 'д', 'е', 'ж', 'з', 'и', 'й', 'к', 'л', 'м', 'н', 'о', 'п', 'р', 'с', 'т', 'у', 'ф', 'х', 'ц', 'ч', 'ш', 'щ', 'ъ', 'ы', 'ь', 'э', 'ю', 'я'], 'sample_rate': 16000}\n"
          ]
        },
        {
          "name": "stdout",
          "output_type": "stream",
          "text": [
            "[NeMo I 2024-03-20 15:10:42 features:289] PADDING: 0\n"
          ]
        }
      ],
      "source": [
        "model = EncDecCTCModel.from_config_file('./ctc_model_config.yaml')\n",
        "ckpt = torch.load('./ctc_model_weights.ckpt', map_location='cpu')\n",
        "model.load_state_dict(ckpt, strict=False)\n",
        "model.eval()\n",
        "model = model.to('cuda')"
      ]
    },
    {
      "cell_type": "code",
      "execution_count": null,
      "metadata": {
        "colab": {
          "base_uri": "https://localhost:8080/",
          "height": 68,
          "referenced_widgets": [
            "ac3177fed8f14f3eb3c854611ed7240d",
            "4748e2df4c8243bd9c4515559468b4ac",
            "53ecdcd0f3c64d699b8609f4aaa415d1",
            "01fe33591d69436b8c2c1a1955aab833",
            "1adae0c6363a4b608fcc9ff58f5814b8",
            "b2c6ba29a46a483b8f82cfc23b762316",
            "cf3e9efe79094d7098b37f3718506660",
            "6be7a3751f8e4464a14ade7c5b6fd41e",
            "1a7a8af440c846ddbac582e1115eb352",
            "55a83aa7934246ef939fd5e916f5e109",
            "88fd11515ae445ccafd4aa135915aeb7"
          ]
        },
        "id": "nlrRmRPvKxYq",
        "outputId": "8ca44ba9-e961-4f57-c353-7cfd9d60e270"
      },
      "outputs": [
        {
          "data": {
            "application/vnd.jupyter.widget-view+json": {
              "model_id": "ac3177fed8f14f3eb3c854611ed7240d",
              "version_major": 2,
              "version_minor": 0
            },
            "text/plain": [
              "Transcribing:   0%|          | 0/1 [00:00<?, ?it/s]"
            ]
          },
          "metadata": {},
          "output_type": "display_data"
        },
        {
          "data": {
            "text/plain": [
              "['а и правда никакой']"
            ]
          },
          "execution_count": 17,
          "metadata": {},
          "output_type": "execute_result"
        }
      ],
      "source": [
        "model.transcribe(['example.mp3'])"
      ]
    },
    {
      "cell_type": "code",
      "execution_count": null,
      "metadata": {
        "id": "5HoUmN9FaFKa"
      },
      "outputs": [],
      "source": []
    }
  ],
  "metadata": {
    "accelerator": "GPU",
    "colab": {
      "collapsed_sections": [
        "0Q99xpSOdHEM",
        "8oUuhRnadATl",
        "7l6p192UWtLe",
        "pAS_1RpLWpjh"
      ],
      "gpuType": "T4",
      "provenance": []
    },
    "kernelspec": {
      "display_name": "Python 3",
      "name": "python3"
    },
    "language_info": {
      "codemirror_mode": {
        "name": "ipython",
        "version": 3
      },
      "file_extension": ".py",
      "mimetype": "text/x-python",
      "name": "python",
      "nbconvert_exporter": "python",
      "pygments_lexer": "ipython3",
      "version": "3.11.4"
    },
    "widgets": {
      "application/vnd.jupyter.widget-state+json": {
        "01fe33591d69436b8c2c1a1955aab833": {
          "model_module": "@jupyter-widgets/controls",
          "model_module_version": "1.5.0",
          "model_name": "HTMLModel",
          "state": {
            "_dom_classes": [],
            "_model_module": "@jupyter-widgets/controls",
            "_model_module_version": "1.5.0",
            "_model_name": "HTMLModel",
            "_view_count": null,
            "_view_module": "@jupyter-widgets/controls",
            "_view_module_version": "1.5.0",
            "_view_name": "HTMLView",
            "description": "",
            "description_tooltip": null,
            "layout": "IPY_MODEL_55a83aa7934246ef939fd5e916f5e109",
            "placeholder": "​",
            "style": "IPY_MODEL_88fd11515ae445ccafd4aa135915aeb7",
            "value": " 1/1 [00:00&lt;00:00, 13.46it/s]"
          }
        },
        "1a7a8af440c846ddbac582e1115eb352": {
          "model_module": "@jupyter-widgets/controls",
          "model_module_version": "1.5.0",
          "model_name": "ProgressStyleModel",
          "state": {
            "_model_module": "@jupyter-widgets/controls",
            "_model_module_version": "1.5.0",
            "_model_name": "ProgressStyleModel",
            "_view_count": null,
            "_view_module": "@jupyter-widgets/base",
            "_view_module_version": "1.2.0",
            "_view_name": "StyleView",
            "bar_color": null,
            "description_width": ""
          }
        },
        "1adae0c6363a4b608fcc9ff58f5814b8": {
          "model_module": "@jupyter-widgets/base",
          "model_module_version": "1.2.0",
          "model_name": "LayoutModel",
          "state": {
            "_model_module": "@jupyter-widgets/base",
            "_model_module_version": "1.2.0",
            "_model_name": "LayoutModel",
            "_view_count": null,
            "_view_module": "@jupyter-widgets/base",
            "_view_module_version": "1.2.0",
            "_view_name": "LayoutView",
            "align_content": null,
            "align_items": null,
            "align_self": null,
            "border": null,
            "bottom": null,
            "display": null,
            "flex": null,
            "flex_flow": null,
            "grid_area": null,
            "grid_auto_columns": null,
            "grid_auto_flow": null,
            "grid_auto_rows": null,
            "grid_column": null,
            "grid_gap": null,
            "grid_row": null,
            "grid_template_areas": null,
            "grid_template_columns": null,
            "grid_template_rows": null,
            "height": null,
            "justify_content": null,
            "justify_items": null,
            "left": null,
            "margin": null,
            "max_height": null,
            "max_width": null,
            "min_height": null,
            "min_width": null,
            "object_fit": null,
            "object_position": null,
            "order": null,
            "overflow": null,
            "overflow_x": null,
            "overflow_y": null,
            "padding": null,
            "right": null,
            "top": null,
            "visibility": null,
            "width": null
          }
        },
        "4748e2df4c8243bd9c4515559468b4ac": {
          "model_module": "@jupyter-widgets/controls",
          "model_module_version": "1.5.0",
          "model_name": "HTMLModel",
          "state": {
            "_dom_classes": [],
            "_model_module": "@jupyter-widgets/controls",
            "_model_module_version": "1.5.0",
            "_model_name": "HTMLModel",
            "_view_count": null,
            "_view_module": "@jupyter-widgets/controls",
            "_view_module_version": "1.5.0",
            "_view_name": "HTMLView",
            "description": "",
            "description_tooltip": null,
            "layout": "IPY_MODEL_b2c6ba29a46a483b8f82cfc23b762316",
            "placeholder": "​",
            "style": "IPY_MODEL_cf3e9efe79094d7098b37f3718506660",
            "value": "Transcribing: 100%"
          }
        },
        "53ecdcd0f3c64d699b8609f4aaa415d1": {
          "model_module": "@jupyter-widgets/controls",
          "model_module_version": "1.5.0",
          "model_name": "FloatProgressModel",
          "state": {
            "_dom_classes": [],
            "_model_module": "@jupyter-widgets/controls",
            "_model_module_version": "1.5.0",
            "_model_name": "FloatProgressModel",
            "_view_count": null,
            "_view_module": "@jupyter-widgets/controls",
            "_view_module_version": "1.5.0",
            "_view_name": "ProgressView",
            "bar_style": "success",
            "description": "",
            "description_tooltip": null,
            "layout": "IPY_MODEL_6be7a3751f8e4464a14ade7c5b6fd41e",
            "max": 1,
            "min": 0,
            "orientation": "horizontal",
            "style": "IPY_MODEL_1a7a8af440c846ddbac582e1115eb352",
            "value": 1
          }
        },
        "55a83aa7934246ef939fd5e916f5e109": {
          "model_module": "@jupyter-widgets/base",
          "model_module_version": "1.2.0",
          "model_name": "LayoutModel",
          "state": {
            "_model_module": "@jupyter-widgets/base",
            "_model_module_version": "1.2.0",
            "_model_name": "LayoutModel",
            "_view_count": null,
            "_view_module": "@jupyter-widgets/base",
            "_view_module_version": "1.2.0",
            "_view_name": "LayoutView",
            "align_content": null,
            "align_items": null,
            "align_self": null,
            "border": null,
            "bottom": null,
            "display": null,
            "flex": null,
            "flex_flow": null,
            "grid_area": null,
            "grid_auto_columns": null,
            "grid_auto_flow": null,
            "grid_auto_rows": null,
            "grid_column": null,
            "grid_gap": null,
            "grid_row": null,
            "grid_template_areas": null,
            "grid_template_columns": null,
            "grid_template_rows": null,
            "height": null,
            "justify_content": null,
            "justify_items": null,
            "left": null,
            "margin": null,
            "max_height": null,
            "max_width": null,
            "min_height": null,
            "min_width": null,
            "object_fit": null,
            "object_position": null,
            "order": null,
            "overflow": null,
            "overflow_x": null,
            "overflow_y": null,
            "padding": null,
            "right": null,
            "top": null,
            "visibility": null,
            "width": null
          }
        },
        "6be7a3751f8e4464a14ade7c5b6fd41e": {
          "model_module": "@jupyter-widgets/base",
          "model_module_version": "1.2.0",
          "model_name": "LayoutModel",
          "state": {
            "_model_module": "@jupyter-widgets/base",
            "_model_module_version": "1.2.0",
            "_model_name": "LayoutModel",
            "_view_count": null,
            "_view_module": "@jupyter-widgets/base",
            "_view_module_version": "1.2.0",
            "_view_name": "LayoutView",
            "align_content": null,
            "align_items": null,
            "align_self": null,
            "border": null,
            "bottom": null,
            "display": null,
            "flex": null,
            "flex_flow": null,
            "grid_area": null,
            "grid_auto_columns": null,
            "grid_auto_flow": null,
            "grid_auto_rows": null,
            "grid_column": null,
            "grid_gap": null,
            "grid_row": null,
            "grid_template_areas": null,
            "grid_template_columns": null,
            "grid_template_rows": null,
            "height": null,
            "justify_content": null,
            "justify_items": null,
            "left": null,
            "margin": null,
            "max_height": null,
            "max_width": null,
            "min_height": null,
            "min_width": null,
            "object_fit": null,
            "object_position": null,
            "order": null,
            "overflow": null,
            "overflow_x": null,
            "overflow_y": null,
            "padding": null,
            "right": null,
            "top": null,
            "visibility": null,
            "width": null
          }
        },
        "88fd11515ae445ccafd4aa135915aeb7": {
          "model_module": "@jupyter-widgets/controls",
          "model_module_version": "1.5.0",
          "model_name": "DescriptionStyleModel",
          "state": {
            "_model_module": "@jupyter-widgets/controls",
            "_model_module_version": "1.5.0",
            "_model_name": "DescriptionStyleModel",
            "_view_count": null,
            "_view_module": "@jupyter-widgets/base",
            "_view_module_version": "1.2.0",
            "_view_name": "StyleView",
            "description_width": ""
          }
        },
        "ac3177fed8f14f3eb3c854611ed7240d": {
          "model_module": "@jupyter-widgets/controls",
          "model_module_version": "1.5.0",
          "model_name": "HBoxModel",
          "state": {
            "_dom_classes": [],
            "_model_module": "@jupyter-widgets/controls",
            "_model_module_version": "1.5.0",
            "_model_name": "HBoxModel",
            "_view_count": null,
            "_view_module": "@jupyter-widgets/controls",
            "_view_module_version": "1.5.0",
            "_view_name": "HBoxView",
            "box_style": "",
            "children": [
              "IPY_MODEL_4748e2df4c8243bd9c4515559468b4ac",
              "IPY_MODEL_53ecdcd0f3c64d699b8609f4aaa415d1",
              "IPY_MODEL_01fe33591d69436b8c2c1a1955aab833"
            ],
            "layout": "IPY_MODEL_1adae0c6363a4b608fcc9ff58f5814b8"
          }
        },
        "b2c6ba29a46a483b8f82cfc23b762316": {
          "model_module": "@jupyter-widgets/base",
          "model_module_version": "1.2.0",
          "model_name": "LayoutModel",
          "state": {
            "_model_module": "@jupyter-widgets/base",
            "_model_module_version": "1.2.0",
            "_model_name": "LayoutModel",
            "_view_count": null,
            "_view_module": "@jupyter-widgets/base",
            "_view_module_version": "1.2.0",
            "_view_name": "LayoutView",
            "align_content": null,
            "align_items": null,
            "align_self": null,
            "border": null,
            "bottom": null,
            "display": null,
            "flex": null,
            "flex_flow": null,
            "grid_area": null,
            "grid_auto_columns": null,
            "grid_auto_flow": null,
            "grid_auto_rows": null,
            "grid_column": null,
            "grid_gap": null,
            "grid_row": null,
            "grid_template_areas": null,
            "grid_template_columns": null,
            "grid_template_rows": null,
            "height": null,
            "justify_content": null,
            "justify_items": null,
            "left": null,
            "margin": null,
            "max_height": null,
            "max_width": null,
            "min_height": null,
            "min_width": null,
            "object_fit": null,
            "object_position": null,
            "order": null,
            "overflow": null,
            "overflow_x": null,
            "overflow_y": null,
            "padding": null,
            "right": null,
            "top": null,
            "visibility": null,
            "width": null
          }
        },
        "cf3e9efe79094d7098b37f3718506660": {
          "model_module": "@jupyter-widgets/controls",
          "model_module_version": "1.5.0",
          "model_name": "DescriptionStyleModel",
          "state": {
            "_model_module": "@jupyter-widgets/controls",
            "_model_module_version": "1.5.0",
            "_model_name": "DescriptionStyleModel",
            "_view_count": null,
            "_view_module": "@jupyter-widgets/base",
            "_view_module_version": "1.2.0",
            "_view_name": "StyleView",
            "description_width": ""
          }
        }
      }
    }
  },
  "nbformat": 4,
  "nbformat_minor": 0
}
